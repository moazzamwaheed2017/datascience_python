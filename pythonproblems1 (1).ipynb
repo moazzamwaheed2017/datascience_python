{
  "nbformat": 4,
  "nbformat_minor": 0,
  "metadata": {
    "colab": {
      "provenance": []
    },
    "kernelspec": {
      "name": "python3",
      "display_name": "Python 3"
    },
    "language_info": {
      "name": "python"
    }
  },
  "cells": [
    {
      "cell_type": "markdown",
      "source": [
        "### Let's solve some problems using python"
      ],
      "metadata": {
        "id": "xTRWGqabznH4"
      }
    },
    {
      "cell_type": "markdown",
      "source": [
        "#### Problem 1 \n",
        "\n",
        "Write a Python function that takes a list of numbers as an argument and returns the largest number in the list."
      ],
      "metadata": {
        "id": "OPCBwZq8pJ1t"
      }
    },
    {
      "cell_type": "code",
      "source": [
        "def find_largest(nums):\n",
        "    max = nums[0]\n",
        "    \n",
        "    for x in nums:\n",
        "        if x > max:\n",
        "            max = x\n",
        "    \n",
        "    return max\n",
        "\n",
        "numbers = [3, 5, 2, 8, 4]\n",
        "print(find_largest(numbers)) # Output: 8"
      ],
      "metadata": {
        "colab": {
          "base_uri": "https://localhost:8080/"
        },
        "id": "v6XzkuOFpBDl",
        "outputId": "0f7d6dd9-a191-43c4-e18c-87ea806b59df"
      },
      "execution_count": null,
      "outputs": [
        {
          "output_type": "stream",
          "name": "stdout",
          "text": [
            "8\n"
          ]
        }
      ]
    },
    {
      "cell_type": "markdown",
      "source": [
        "#### Problem 2\n",
        "\n",
        "Write a Python function that takes a string as an argument and returns the number of vowels in the string."
      ],
      "metadata": {
        "id": "FcGyqrYUpWia"
      }
    },
    {
      "cell_type": "code",
      "source": [
        "def count_vowels(s):\n",
        "    count = 0\n",
        "    vowels = [\"a\", \"e\", \"i\", \"o\", \"u\"]\n",
        "\n",
        "    for i in range(len(s)):\n",
        "       if s[i] in vowels:\n",
        "         count += 1         \n",
        "\n",
        "    return count\n",
        "\n",
        "sentence = \"Hello, World!\"\n",
        "print(count_vowels(sentence)) # Output: 3"
      ],
      "metadata": {
        "colab": {
          "base_uri": "https://localhost:8080/"
        },
        "id": "8ZpPVyeMpBF3",
        "outputId": "25a46dd3-21a0-41d3-8bb3-8bab74b3eb34"
      },
      "execution_count": 33,
      "outputs": [
        {
          "output_type": "stream",
          "name": "stdout",
          "text": [
            "3\n"
          ]
        }
      ]
    },
    {
      "cell_type": "markdown",
      "source": [
        "#### Problem 3\n",
        "\n",
        "Write a Python function that takes a list of strings as an argument and returns a list of strings that contains only the even-length strings from the original list."
      ],
      "metadata": {
        "id": "6azHwtX9pXmW"
      }
    },
    {
      "cell_type": "code",
      "source": [
        "def even_length_strings(strings):\n",
        "    preprocessed_list = []\n",
        "    for word in strings:\n",
        "        if len(word)%2==0:\n",
        "            preprocessed_list.append(word)\n",
        "\n",
        "    return preprocessed_list\n",
        "\n",
        "words = ['cat', 'dog', 'bird', 'monkey', 'elephant']\n",
        "print(even_length_strings(words)) # Output: ['bird', 'monkey', 'elephant']"
      ],
      "metadata": {
        "colab": {
          "base_uri": "https://localhost:8080/"
        },
        "id": "ImDaNIlW4MsM",
        "outputId": "d5a190fd-579e-4c05-eab2-a887d65d34bc"
      },
      "execution_count": 2,
      "outputs": [
        {
          "output_type": "stream",
          "name": "stdout",
          "text": [
            "['bird', 'monkey', 'elephant']\n"
          ]
        }
      ]
    },
    {
      "cell_type": "markdown",
      "source": [
        "#### Problem 4"
      ],
      "metadata": {
        "id": "2Uqx0otsrtPp"
      }
    },
    {
      "cell_type": "markdown",
      "source": [
        "Write a Python function that takes a list of integers as an argument and returns the sum of the squares of the integers in the list."
      ],
      "metadata": {
        "id": "hYm2H5j-rxhU"
      }
    },
    {
      "cell_type": "code",
      "source": [
        "def sum_of_squares(nums):\n",
        "    sum = 0\n",
        "    for l in nums:\n",
        "       sum = sum + l * l\n",
        "\n",
        "    return sum\n",
        "\n",
        "numbers = [1, 2, 3, 4, 5]\n",
        "print(sum_of_squares(numbers)) # Output: 55"
      ],
      "metadata": {
        "colab": {
          "base_uri": "https://localhost:8080/"
        },
        "id": "0_nSemQR4Ncn",
        "outputId": "3b36be1e-a434-4734-c4e6-38e1b779a109"
      },
      "execution_count": 3,
      "outputs": [
        {
          "output_type": "stream",
          "name": "stdout",
          "text": [
            "55\n"
          ]
        }
      ]
    },
    {
      "cell_type": "markdown",
      "source": [
        "#### Problem 5\n",
        "\n",
        "Palindrome checker: Write a function that takes in a string and returns a Boolean indicating whether the string is a palindrome (a word or phrase that reads the same backwards as forwards).\n"
      ],
      "metadata": {
        "id": "r196AiQ61Vwt"
      }
    },
    {
      "cell_type": "code",
      "source": [
        "def is_palindrome(s):\n",
        "    w = \"\"      \n",
        "    for i in s:\n",
        "      w = i + w\n",
        " \n",
        "    if (s == w):\n",
        "      return True\n",
        "    else:\n",
        "      return False \n",
        "\n",
        "print(is_palindrome(\"racecar\")) # True\n",
        "print(is_palindrome(\"hello\")) # False"
      ],
      "metadata": {
        "id": "AiDZkVAz4OFw",
        "colab": {
          "base_uri": "https://localhost:8080/"
        },
        "outputId": "0379cf90-8634-4a43-8716-528d24462efc"
      },
      "execution_count": 4,
      "outputs": [
        {
          "output_type": "stream",
          "name": "stdout",
          "text": [
            "True\n",
            "False\n"
          ]
        }
      ]
    },
    {
      "cell_type": "markdown",
      "source": [
        "#### Problem 6\n",
        "FizzBuzz: Write a program that prints the numbers from 1 to 100. But for multiples of three print \"Fizz\" instead of the number and for the multiples of five print \"Buzz\". For numbers which are multiples of both three and five print \"FizzBuzz\"."
      ],
      "metadata": {
        "id": "0TXzZysA1bBJ"
      }
    },
    {
      "cell_type": "code",
      "source": [
        "## write here\n",
        "for fizzbuzz in range(1,101):\n",
        "    if fizzbuzz % 15 == 0:\n",
        "        print(\"FizzBuzz\")                                        \n",
        "        continue\n",
        "    elif fizzbuzz % 3 == 0:    \n",
        "        print(\"Fizz\")                                        \n",
        "        continue\n",
        "    elif fizzbuzz % 5 == 0:        \n",
        "        print(\"Buzz\")                                    \n",
        "        continue\n",
        " \n",
        "    print(fizzbuzz)"
      ],
      "metadata": {
        "id": "Nz-YBU2D4OtF",
        "colab": {
          "base_uri": "https://localhost:8080/"
        },
        "outputId": "a3213ad8-e035-428e-c4aa-cbfa74eaa42c"
      },
      "execution_count": 9,
      "outputs": [
        {
          "output_type": "stream",
          "name": "stdout",
          "text": [
            "1\n",
            "2\n",
            "Fizz\n",
            "4\n",
            "Buzz\n",
            "Fizz\n",
            "7\n",
            "8\n",
            "Fizz\n",
            "Buzz\n",
            "11\n",
            "Fizz\n",
            "13\n",
            "14\n",
            "FizzBuzz\n",
            "16\n",
            "17\n",
            "Fizz\n",
            "19\n",
            "Buzz\n",
            "Fizz\n",
            "22\n",
            "23\n",
            "Fizz\n",
            "Buzz\n",
            "26\n",
            "Fizz\n",
            "28\n",
            "29\n",
            "FizzBuzz\n",
            "31\n",
            "32\n",
            "Fizz\n",
            "34\n",
            "Buzz\n",
            "Fizz\n",
            "37\n",
            "38\n",
            "Fizz\n",
            "Buzz\n",
            "41\n",
            "Fizz\n",
            "43\n",
            "44\n",
            "FizzBuzz\n",
            "46\n",
            "47\n",
            "Fizz\n",
            "49\n",
            "Buzz\n",
            "Fizz\n",
            "52\n",
            "53\n",
            "Fizz\n",
            "Buzz\n",
            "56\n",
            "Fizz\n",
            "58\n",
            "59\n",
            "FizzBuzz\n",
            "61\n",
            "62\n",
            "Fizz\n",
            "64\n",
            "Buzz\n",
            "Fizz\n",
            "67\n",
            "68\n",
            "Fizz\n",
            "Buzz\n",
            "71\n",
            "Fizz\n",
            "73\n",
            "74\n",
            "FizzBuzz\n",
            "76\n",
            "77\n",
            "Fizz\n",
            "79\n",
            "Buzz\n",
            "Fizz\n",
            "82\n",
            "83\n",
            "Fizz\n",
            "Buzz\n",
            "86\n",
            "Fizz\n",
            "88\n",
            "89\n",
            "FizzBuzz\n",
            "91\n",
            "92\n",
            "Fizz\n",
            "94\n",
            "Buzz\n",
            "Fizz\n",
            "97\n",
            "98\n",
            "Fizz\n",
            "Buzz\n"
          ]
        }
      ]
    },
    {
      "cell_type": "markdown",
      "source": [
        "#### Problem 7 \n",
        "\n",
        "Reverse a list: Write a function that takes in a list and returns a new list with the elements in reverse order."
      ],
      "metadata": {
        "id": "esDjCa5B1a-R"
      }
    },
    {
      "cell_type": "code",
      "source": [
        "def reverse_list(lst):\n",
        "    list2 = []\n",
        "    for l in lst:\n",
        "       list2 =  [l] + list2\n",
        "\n",
        "    return list2\n",
        "\n",
        "print(reverse_list([1, 2, 3, 4, 5])) # [5, 4, 3, 2, 1]"
      ],
      "metadata": {
        "colab": {
          "base_uri": "https://localhost:8080/"
        },
        "id": "4IaZjSz04PB8",
        "outputId": "4d8511d0-6e5f-4e9d-c5b3-0941cd9b53db"
      },
      "execution_count": 11,
      "outputs": [
        {
          "output_type": "stream",
          "name": "stdout",
          "text": [
            "[5, 4, 3, 2, 1]\n"
          ]
        }
      ]
    },
    {
      "cell_type": "markdown",
      "source": [
        "#### Problem 8\n",
        "Leap year checker: Write a function that takes in a year and returns a Boolean indicating whether the year is a leap year. A leap year is divisible by 4, but not divisible by 100 unless it is also divisible by 400.\n"
      ],
      "metadata": {
        "id": "1b2Ex_cI1a79"
      }
    },
    {
      "cell_type": "code",
      "source": [
        "def is_leap_year(year):\n",
        "    if (year%4 == 0 and year%100 != 0) or (year%400 == 0) :\n",
        "       return True\n",
        "    else :\n",
        "       return False\n",
        "\n",
        "print(is_leap_year(2000)) # True\n",
        "print(is_leap_year(1900)) # False"
      ],
      "metadata": {
        "colab": {
          "base_uri": "https://localhost:8080/"
        },
        "id": "ionGSWOo4PtL",
        "outputId": "d9ee06a7-579d-45a3-86a0-bd7ef4f21c23"
      },
      "execution_count": 17,
      "outputs": [
        {
          "output_type": "stream",
          "name": "stdout",
          "text": [
            "True\n",
            "False\n"
          ]
        }
      ]
    },
    {
      "cell_type": "markdown",
      "source": [
        "#### Problem 9\n",
        "Flatten a nested list: Write a function that takes in a nested list and returns a new list with all the elements flattened."
      ],
      "metadata": {
        "id": "pt47YCvX1a5l"
      }
    },
    {
      "cell_type": "code",
      "source": [
        "output = []\n",
        "def flatten_list(lst):\n",
        "    for i in lst:\n",
        "        if type(i) == list:\n",
        "            flatten_list(i)\n",
        "        else:\n",
        "            output.append(i)\n",
        "    \n",
        "    return output\n",
        "\n",
        "print(flatten_list([1, [2, [3, 4], 5]])) # [1, 2, 3, 4, 5]"
      ],
      "metadata": {
        "id": "VqZfGw994QNb",
        "colab": {
          "base_uri": "https://localhost:8080/"
        },
        "outputId": "48bb3d71-e88e-4308-a4de-c90c0bd7d8b1"
      },
      "execution_count": 26,
      "outputs": [
        {
          "output_type": "stream",
          "name": "stdout",
          "text": [
            "[1, 2, 3, 4, 5]\n"
          ]
        }
      ]
    },
    {
      "cell_type": "markdown",
      "source": [
        "#### Problem 10\n",
        "\n",
        "Fibonacci Sequence Generator: Write a function that generates the Fibonacci sequence up to a given number of terms. The Fibonacci sequence is a series of numbers in which each number is the sum of the two preceding ones, usually starting with 0 and 1."
      ],
      "metadata": {
        "id": "GJteZg3U67J1"
      }
    },
    {
      "cell_type": "code",
      "source": [
        "def fibonacci(n):\n",
        "    fab = []\n",
        "    a, b = 0, 1\n",
        "    for i in range(n):\n",
        "       fab.append(a)\n",
        "       a, b = b, a+b\n",
        "\n",
        "    return fab\n",
        "\n",
        "print(fibonacci(10)) # [0, 1, 1, 2, 3, 5, 8, 13, 21, 34]"
      ],
      "metadata": {
        "colab": {
          "base_uri": "https://localhost:8080/"
        },
        "id": "lm2HDiCv63aB",
        "outputId": "7f4d840f-dd7e-49c3-dfb6-bce2e6d42c09"
      },
      "execution_count": 27,
      "outputs": [
        {
          "output_type": "stream",
          "name": "stdout",
          "text": [
            "[0, 1, 1, 2, 3, 5, 8, 13, 21, 34]\n"
          ]
        }
      ]
    },
    {
      "cell_type": "code",
      "source": [],
      "metadata": {
        "id": "syFNDDbz7U5b"
      },
      "execution_count": null,
      "outputs": []
    }
  ]
}